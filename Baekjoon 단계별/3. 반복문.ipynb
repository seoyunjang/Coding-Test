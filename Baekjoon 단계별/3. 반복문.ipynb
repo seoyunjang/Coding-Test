{
 "cells": [
  {
   "cell_type": "markdown",
   "id": "31a9c73c",
   "metadata": {},
   "source": [
    "#### 2739. 구구단"
   ]
  },
  {
   "cell_type": "code",
   "execution_count": null,
   "id": "be0bd016",
   "metadata": {},
   "outputs": [],
   "source": [
    "a = int(input())\n",
    "\n",
    "for i in range(1, 10):\n",
    "    div = a*i\n",
    "    print(f\"{a} * {i} = {div}\")"
   ]
  },
  {
   "cell_type": "markdown",
   "id": "f5393817",
   "metadata": {},
   "source": [
    "#### 10950. A+B - 3"
   ]
  },
  {
   "cell_type": "code",
   "execution_count": null,
   "id": "6af78ec4",
   "metadata": {},
   "outputs": [],
   "source": [
    "n = int(input())\n",
    "\n",
    "for i in range (n):\n",
    "    a,b = map(int, input().split())\n",
    "    print (a+b)\n"
   ]
  },
  {
   "cell_type": "markdown",
   "id": "1b060685",
   "metadata": {},
   "source": [
    "#### 8393. 합"
   ]
  },
  {
   "cell_type": "code",
   "execution_count": null,
   "id": "787f25b5",
   "metadata": {},
   "outputs": [],
   "source": [
    "n = int(input())\n",
    "sum = 0\n",
    "for i in range (n+1):\n",
    "    sum = sum+i\n",
    "\n",
    "print (sum)"
   ]
  },
  {
   "cell_type": "markdown",
   "id": "56a600a9",
   "metadata": {},
   "source": [
    "#### 15552. 빠른 A+B"
   ]
  },
  {
   "cell_type": "code",
   "execution_count": null,
   "id": "d1839ac7",
   "metadata": {},
   "outputs": [],
   "source": [
    "import sys\n",
    "\n",
    "a = int(input())\n",
    "\n",
    "for i in range(a):\n",
    "    a,b= map(int, sys.stdin.readline().split())\n",
    "    print(a+b)"
   ]
  },
  {
   "cell_type": "markdown",
   "id": "3e29b913",
   "metadata": {},
   "source": [
    "#### 2741. N 찍기"
   ]
  },
  {
   "cell_type": "code",
   "execution_count": null,
   "id": "7e72e8e3",
   "metadata": {},
   "outputs": [],
   "source": [
    "n = int(input())\n",
    "\n",
    "for i in range (n):\n",
    "    print (i+1)"
   ]
  },
  {
   "cell_type": "markdown",
   "id": "e62c0377",
   "metadata": {},
   "source": [
    "#### 2742. 기찍 N"
   ]
  },
  {
   "cell_type": "code",
   "execution_count": null,
   "id": "a17bb4ed",
   "metadata": {},
   "outputs": [],
   "source": [
    "n = int(input())\n",
    "\n",
    "for i in range (n):\n",
    "    print (n-i)"
   ]
  },
  {
   "cell_type": "markdown",
   "id": "712f45de",
   "metadata": {},
   "source": [
    "#### 11021 . A+B - 7"
   ]
  },
  {
   "cell_type": "code",
   "execution_count": null,
   "id": "8a0100ea",
   "metadata": {},
   "outputs": [],
   "source": [
    "for i in range (1,n+1):\n",
    "    a,b = map(int, input().split())\n",
    "    print ('Case #{0}: {1}'.format(i, a+b))"
   ]
  },
  {
   "cell_type": "markdown",
   "id": "17d93e82",
   "metadata": {},
   "source": [
    "#### 11022. A+B - 8"
   ]
  },
  {
   "cell_type": "code",
   "execution_count": null,
   "id": "f1673504",
   "metadata": {},
   "outputs": [],
   "source": [
    "n = int(input())\n",
    "\n",
    "for i in range (n):\n",
    "    a,b = map(int, input().split())\n",
    "    print ('Case #{0}: {1} + {2} = {3}'.format(i+1,a,b,a+b))"
   ]
  },
  {
   "cell_type": "markdown",
   "id": "6bd841b0",
   "metadata": {},
   "source": [
    "#### 2438. 별 찍기 1"
   ]
  },
  {
   "cell_type": "code",
   "execution_count": null,
   "id": "f53267d4",
   "metadata": {},
   "outputs": [],
   "source": [
    "n = int(input())\n",
    "\n",
    "for i in range (n):\n",
    "    print('*'*(i+1))"
   ]
  },
  {
   "cell_type": "markdown",
   "id": "21ff6c26",
   "metadata": {},
   "source": [
    "#### 2439. 별찍기 2"
   ]
  },
  {
   "cell_type": "code",
   "execution_count": null,
   "id": "6f49f9ba",
   "metadata": {
    "scrolled": true
   },
   "outputs": [],
   "source": [
    "n = int(input())\n",
    "\n",
    "for i in range (1,n+1):\n",
    "    print(' '*(n-i) + '*'*(i))"
   ]
  },
  {
   "cell_type": "markdown",
   "id": "9556e566",
   "metadata": {},
   "source": [
    "#### 10871. X보다 작은 수"
   ]
  },
  {
   "cell_type": "code",
   "execution_count": null,
   "id": "8e33b368",
   "metadata": {},
   "outputs": [],
   "source": [
    "a,b = map(int, input().split())\n",
    "arr = list(map(int, input().split()))\n",
    "for i in range(a):\n",
    "    if arr[i] < b:\n",
    "        print (arr[i], end = ' ')"
   ]
  },
  {
   "cell_type": "markdown",
   "id": "74a93423",
   "metadata": {},
   "source": [
    "#### 10952. A+B - 5"
   ]
  },
  {
   "cell_type": "code",
   "execution_count": null,
   "id": "6e82fa10",
   "metadata": {},
   "outputs": [],
   "source": [
    "while True:\n",
    "    a,b = map(int, input().split())\n",
    "    if a == 0 and b == 0:\n",
    "        break\n",
    "    print (a+b)"
   ]
  },
  {
   "cell_type": "markdown",
   "id": "f1693b2e",
   "metadata": {},
   "source": [
    "#### 10951. A-B - 4"
   ]
  },
  {
   "cell_type": "code",
   "execution_count": null,
   "id": "684d8985",
   "metadata": {},
   "outputs": [],
   "source": [
    "while True:\n",
    "    try:\n",
    "        a,b = map(int, input().split())\n",
    "        print (a+b)\n",
    "    except:\n",
    "        break"
   ]
  },
  {
   "cell_type": "markdown",
   "id": "a9635b7a",
   "metadata": {},
   "source": [
    "#### 1110. 더하기 싸이클"
   ]
  },
  {
   "cell_type": "code",
   "execution_count": null,
   "id": "266dd5cd",
   "metadata": {},
   "outputs": [],
   "source": [
    "a = int(input())\n",
    "k = a\n",
    "i = 1\n",
    "while True:\n",
    "    sum = (k//10) + (k % 10)\n",
    "    if sum >= 10:\n",
    "        sum = sum%10\n",
    "    answer = ((k % 10)*10) + sum\n",
    "    if answer == a:\n",
    "        print (i)\n",
    "        break\n",
    "    else:\n",
    "        i = i+1\n",
    "        k = answer"
   ]
  }
 ],
 "metadata": {
  "kernelspec": {
   "display_name": "Python 3",
   "language": "python",
   "name": "python3"
  },
  "language_info": {
   "codemirror_mode": {
    "name": "ipython",
    "version": 3
   },
   "file_extension": ".py",
   "mimetype": "text/x-python",
   "name": "python",
   "nbconvert_exporter": "python",
   "pygments_lexer": "ipython3",
   "version": "3.8.8"
  }
 },
 "nbformat": 4,
 "nbformat_minor": 5
}
