{
 "cells": [
  {
   "cell_type": "markdown",
   "id": "a8f55ddd",
   "metadata": {},
   "source": [
    "#### 2557. Hello World "
   ]
  },
  {
   "cell_type": "code",
   "execution_count": 1,
   "id": "c2c7f81b",
   "metadata": {},
   "outputs": [
    {
     "name": "stdout",
     "output_type": "stream",
     "text": [
      "Hello World!\n"
     ]
    }
   ],
   "source": [
    "print(\"Hello World!\")"
   ]
  },
  {
   "cell_type": "markdown",
   "id": "da3f97d4",
   "metadata": {},
   "source": [
    "#### 10718. We love Kriii"
   ]
  },
  {
   "cell_type": "code",
   "execution_count": 2,
   "id": "76466fb9",
   "metadata": {},
   "outputs": [
    {
     "name": "stdout",
     "output_type": "stream",
     "text": [
      "강한친구 대한육군\n",
      "강한친구 대한육군\n"
     ]
    }
   ],
   "source": [
    "print(\"강한친구 대한육군\")\n",
    "print(\"강한친구 대한육군\")"
   ]
  },
  {
   "cell_type": "markdown",
   "id": "e4dfb4b7",
   "metadata": {},
   "source": [
    "#### 10171. 고양이"
   ]
  },
  {
   "cell_type": "code",
   "execution_count": 3,
   "id": "6820cc5d",
   "metadata": {},
   "outputs": [
    {
     "name": "stdout",
     "output_type": "stream",
     "text": [
      "\\    /\\\n",
      " )  ( ')\n",
      "(  /  )\n",
      " \\(__)|\n"
     ]
    }
   ],
   "source": [
    "print(\"\\\\    /\\\\\")\n",
    "print(\" )  ( ')\")\n",
    "print(\"(  /  )\")\n",
    "print(\" \\\\(__)|\")"
   ]
  },
  {
   "cell_type": "markdown",
   "id": "27e8ac74",
   "metadata": {},
   "source": [
    "#### 10172. 개"
   ]
  },
  {
   "cell_type": "code",
   "execution_count": 4,
   "id": "369c3eea",
   "metadata": {},
   "outputs": [
    {
     "name": "stdout",
     "output_type": "stream",
     "text": [
      "|\\_/|\n",
      "|q p|   /}\n",
      "( 0 )\"\"\"\\\n",
      "|\"^\"`    |\n",
      "||_/=\\\\__|\n"
     ]
    }
   ],
   "source": [
    "print(\"\"\"|\\_/|\n",
    "|q p|   /}\n",
    "( 0 )\\\"\\\"\\\"\\\\\n",
    "|\"^\"`    |\n",
    "||_/=\\\\\\__|\"\"\")"
   ]
  },
  {
   "cell_type": "markdown",
   "id": "b86d01f0",
   "metadata": {},
   "source": [
    "#### 1000. A+B"
   ]
  },
  {
   "cell_type": "code",
   "execution_count": 5,
   "id": "3b74ce0d",
   "metadata": {},
   "outputs": [
    {
     "name": "stdout",
     "output_type": "stream",
     "text": [
      "1 2\n",
      "3\n"
     ]
    }
   ],
   "source": [
    "a, b = map(int, input().split())\n",
    "print(a+b)"
   ]
  },
  {
   "cell_type": "code",
   "execution_count": 6,
   "id": "57613b9f",
   "metadata": {},
   "outputs": [],
   "source": [
    "# map 함수 : 리스트의 요소를 함수에 넣고 리턴된 값으로 새로운 리스트를 구성해 주는 함수\n",
    "# split 함수 : 문자열 자르기\n",
    "# map(int, input().split()) : input()으로 입력받은 문자열을 split()을 이용해 공백으로 나눈 리스트로 바꾼 후, map을 이용하여 해당 리스트의 모든 원소에 int()를 적용"
   ]
  },
  {
   "cell_type": "markdown",
   "id": "d7ad1ca9",
   "metadata": {},
   "source": [
    "#### 1001. A-B"
   ]
  },
  {
   "cell_type": "code",
   "execution_count": 7,
   "id": "f22263de",
   "metadata": {},
   "outputs": [
    {
     "name": "stdout",
     "output_type": "stream",
     "text": [
      "1 2\n",
      "-1\n"
     ]
    }
   ],
   "source": [
    "a, b = map(int, input().split())\n",
    "print(a-b)"
   ]
  },
  {
   "cell_type": "markdown",
   "id": "689a2012",
   "metadata": {},
   "source": [
    "#### 10998.AXB"
   ]
  },
  {
   "cell_type": "code",
   "execution_count": 8,
   "id": "9ab57de3",
   "metadata": {},
   "outputs": [
    {
     "name": "stdout",
     "output_type": "stream",
     "text": [
      "1 2\n",
      "2\n"
     ]
    }
   ],
   "source": [
    "a, b = map(int, input().split())\n",
    "print(a*b)"
   ]
  },
  {
   "cell_type": "markdown",
   "id": "06c75e59",
   "metadata": {},
   "source": [
    "#### 1008. A/B"
   ]
  },
  {
   "cell_type": "code",
   "execution_count": 9,
   "id": "a405c94c",
   "metadata": {},
   "outputs": [
    {
     "name": "stdout",
     "output_type": "stream",
     "text": [
      "1 2\n",
      "0.5\n"
     ]
    }
   ],
   "source": [
    "a, b = map(int, input().split())\n",
    "print(a/b)"
   ]
  },
  {
   "cell_type": "markdown",
   "id": "7eb56da1",
   "metadata": {},
   "source": [
    "#### 10869. 사칙연산"
   ]
  },
  {
   "cell_type": "code",
   "execution_count": 10,
   "id": "cf3d67f5",
   "metadata": {},
   "outputs": [
    {
     "name": "stdout",
     "output_type": "stream",
     "text": [
      "1 2\n",
      "3\n",
      "-1\n",
      "2\n",
      "0\n",
      "1\n"
     ]
    }
   ],
   "source": [
    "a, b = map(int, input().split())\n",
    "print(a+b)\n",
    "print(a-b)\n",
    "print(a*b)\n",
    "print(int(a/b)) # 정수형태 출력\n",
    "print(a%b)"
   ]
  },
  {
   "cell_type": "markdown",
   "id": "5e95898e",
   "metadata": {},
   "source": [
    "#### 10926.??!"
   ]
  },
  {
   "cell_type": "code",
   "execution_count": 11,
   "id": "a91e5d6b",
   "metadata": {},
   "outputs": [
    {
     "name": "stdout",
     "output_type": "stream",
     "text": [
      "1\n",
      "1??!\n"
     ]
    }
   ],
   "source": [
    "a = input()\n",
    "print (a + \"??!\")"
   ]
  },
  {
   "cell_type": "markdown",
   "id": "cc9b2a9a",
   "metadata": {},
   "source": [
    "#### 18108. 1998년생인 내가 태국에서는 2541년생?!"
   ]
  },
  {
   "cell_type": "code",
   "execution_count": 12,
   "id": "980c56be",
   "metadata": {},
   "outputs": [
    {
     "name": "stdout",
     "output_type": "stream",
     "text": [
      "1\n",
      "-542\n"
     ]
    }
   ],
   "source": [
    "a = int(input())\n",
    "b = a - 543\n",
    "print (b)"
   ]
  },
  {
   "cell_type": "markdown",
   "id": "884ddc50",
   "metadata": {},
   "source": [
    "#### 10430. 나머지"
   ]
  },
  {
   "cell_type": "code",
   "execution_count": 13,
   "id": "c7f94217",
   "metadata": {},
   "outputs": [
    {
     "name": "stdout",
     "output_type": "stream",
     "text": [
      "1 2 3\n",
      "0\n",
      "0\n",
      "2\n",
      "2\n"
     ]
    }
   ],
   "source": [
    "A, B, C = map(int, input().split())\n",
    "print((A+B)%C)\n",
    "print(((A%C) + (B%C))%C)\n",
    "print((A*B)%C)\n",
    "print(((A%C) * (B%C))%C)"
   ]
  },
  {
   "cell_type": "markdown",
   "id": "035f1cff",
   "metadata": {},
   "source": [
    "#### 2588. 곱셈"
   ]
  },
  {
   "cell_type": "code",
   "execution_count": 14,
   "id": "339b7d9c",
   "metadata": {},
   "outputs": [
    {
     "name": "stdout",
     "output_type": "stream",
     "text": [
      "123\n",
      "456\n",
      "738\n",
      "615\n",
      "492\n",
      "56088\n"
     ]
    }
   ],
   "source": [
    "a = input()\n",
    "b = input()\n",
    "c = int(a)* int(b[2])\n",
    "d = int(a)* int(b[1])\n",
    "e = int(a)* int(b[0])\n",
    "f = e * 100 + d * 10 + c\n",
    "print(c)\n",
    "print(d)\n",
    "print(e)\n",
    "print(f)"
   ]
  }
 ],
 "metadata": {
  "kernelspec": {
   "display_name": "Python 3",
   "language": "python",
   "name": "python3"
  },
  "language_info": {
   "codemirror_mode": {
    "name": "ipython",
    "version": 3
   },
   "file_extension": ".py",
   "mimetype": "text/x-python",
   "name": "python",
   "nbconvert_exporter": "python",
   "pygments_lexer": "ipython3",
   "version": "3.8.8"
  }
 },
 "nbformat": 4,
 "nbformat_minor": 5
}
