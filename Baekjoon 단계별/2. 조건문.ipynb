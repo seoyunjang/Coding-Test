{
 "cells": [
  {
   "cell_type": "markdown",
   "id": "759d9546",
   "metadata": {},
   "source": [
    "#### 1330. 두수 비교하기"
   ]
  },
  {
   "cell_type": "code",
   "execution_count": null,
   "id": "04ece289",
   "metadata": {},
   "outputs": [],
   "source": [
    "A, B = map(int, input().split())\n",
    "if A>B:\n",
    "   print(\">\")\n",
    "elif A<B:\n",
    "   print(\"<\")\n",
    "else :\n",
    "   print(\"==\")"
   ]
  },
  {
   "cell_type": "markdown",
   "id": "946e9353",
   "metadata": {},
   "source": [
    "#### 9498. 시험성적"
   ]
  },
  {
   "cell_type": "code",
   "execution_count": 1,
   "id": "58b04b66",
   "metadata": {},
   "outputs": [
    {
     "name": "stdout",
     "output_type": "stream",
     "text": [
      "100\n",
      "A\n"
     ]
    }
   ],
   "source": [
    "a = int(input())\n",
    "if a >= 90:\n",
    "    print('A')\n",
    "elif a >= 80:\n",
    "     print('B')\n",
    "elif a >= 70:\n",
    "     print('C')\n",
    "elif a >= 60:\n",
    "     print('D')\n",
    "else:\n",
    "     print('F')"
   ]
  },
  {
   "cell_type": "markdown",
   "id": "18831c07",
   "metadata": {},
   "source": [
    "#### 2753. 윤년"
   ]
  },
  {
   "cell_type": "code",
   "execution_count": 2,
   "id": "e342c49a",
   "metadata": {},
   "outputs": [
    {
     "name": "stdout",
     "output_type": "stream",
     "text": [
      "2000\n",
      "1\n"
     ]
    }
   ],
   "source": [
    "a = int(input())\n",
    "if((a%4==0) and ((a%100!=0) or (a%400==0))):\n",
    " print(\"1\")\n",
    "else:\n",
    " print(\"0\")"
   ]
  },
  {
   "cell_type": "markdown",
   "id": "f032a7a2",
   "metadata": {},
   "source": [
    "#### 14681. 사분면고르기"
   ]
  },
  {
   "cell_type": "code",
   "execution_count": 3,
   "id": "d05f1a4a",
   "metadata": {},
   "outputs": [
    {
     "name": "stdout",
     "output_type": "stream",
     "text": [
      "12\n",
      "2\n",
      "1\n"
     ]
    }
   ],
   "source": [
    "a = int(input())\n",
    "b = int(input())\n",
    "\n",
    "if(a>0 and b>0):\n",
    " print(\"1\")\n",
    "elif(a>0 and b<0):\n",
    " print(\"4\")\n",
    "elif(a<0 and b>0):\n",
    " print(\"2\")   \n",
    "else:\n",
    " print(\"3\")"
   ]
  },
  {
   "cell_type": "markdown",
   "id": "b14e1cd7",
   "metadata": {},
   "source": [
    "#### 2884. 알람 시계"
   ]
  },
  {
   "cell_type": "code",
   "execution_count": 4,
   "id": "149b9fb4",
   "metadata": {},
   "outputs": [
    {
     "name": "stdout",
     "output_type": "stream",
     "text": [
      "10 10\n",
      "9 25\n"
     ]
    }
   ],
   "source": [
    "h,m = map(int, input().split())\n",
    "\n",
    "if m>=45: # 분이 45분보다 큰경우\n",
    " print(h, m-45)\n",
    "\n",
    "else: # 분이 45분보다 작은 경우\n",
    " if h==0: # h가 0시인 경우 -1은 없기 때문에 23시로 계산\n",
    "   print(23, 15+m)\n",
    " else:\n",
    "   print(h-1, 15+m)"
   ]
  },
  {
   "cell_type": "markdown",
   "id": "3fbb0c9e",
   "metadata": {},
   "source": [
    "#### 2525. 오븐시계"
   ]
  },
  {
   "cell_type": "code",
   "execution_count": 3,
   "id": "585e3b31",
   "metadata": {},
   "outputs": [
    {
     "name": "stdout",
     "output_type": "stream",
     "text": [
      "14 30\n",
      "20\n",
      "14 50\n"
     ]
    }
   ],
   "source": [
    "hour, min = map(int,input().split())     # 현재 시간과 분을 받는다.\n",
    "time = int(input())                      # 더할 시간을 받는다.\n",
    "\n",
    "result = [hour + (time//60), min + (time%60)]  # 몫과 나머지 연산자를 이용하여 일단 시간을 더해준다.\n",
    "\n",
    "# 분 먼저 계산하고 시간 계산 \n",
    "if result[1] >= 60:   # 분을 더한 것이 60을 넘으면\n",
    "  result[0] += 1      # 시간에 1 더하고\n",
    "  result[1] %= 60     # 나머지를 분으로 해주기\n",
    "\n",
    "# 분 계산 이후 시간 계산\n",
    "if result[0] >= 24:   # 만약 24가 넘으면\n",
    "  result[0] -= 24     # 24를 빼줘 전자시간에 맞게 해주기 아니면 그대로 출력\n",
    "\n",
    "print(result[0],result[1])  "
   ]
  },
  {
   "cell_type": "markdown",
   "id": "c0a19bce",
   "metadata": {},
   "source": [
    "#### 2480. 주사위 세개"
   ]
  },
  {
   "cell_type": "code",
   "execution_count": 6,
   "id": "409203e9",
   "metadata": {},
   "outputs": [
    {
     "name": "stdout",
     "output_type": "stream",
     "text": [
      "3 3 6\n",
      "1300\n"
     ]
    }
   ],
   "source": [
    "a,b,c=map(int,input().split())\n",
    "\n",
    "if a==b==c:\n",
    "    print(10000+a*1000)\n",
    "elif a==b or a==c: \n",
    "    print(1000+a*100)\n",
    "elif b==c:\n",
    "    print(1000+b*100)\n",
    "else:\n",
    "    print(100*max(a,b,c))"
   ]
  }
 ],
 "metadata": {
  "kernelspec": {
   "display_name": "Python 3 (ipykernel)",
   "language": "python",
   "name": "python3"
  },
  "language_info": {
   "codemirror_mode": {
    "name": "ipython",
    "version": 3
   },
   "file_extension": ".py",
   "mimetype": "text/x-python",
   "name": "python",
   "nbconvert_exporter": "python",
   "pygments_lexer": "ipython3",
   "version": "3.9.7"
  }
 },
 "nbformat": 4,
 "nbformat_minor": 5
}
